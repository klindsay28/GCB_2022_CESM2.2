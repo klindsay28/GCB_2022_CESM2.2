{
 "cells": [
  {
   "cell_type": "code",
   "execution_count": 1,
   "id": "53a1764f-f084-4f25-99e1-22bbc537dbdb",
   "metadata": {},
   "outputs": [],
   "source": [
    "co2_forcing=const\n",
    "clim_forcing=varying\n",
    "exp_no=002\n",
    "\n",
    "clobber=1"
   ]
  },
  {
   "cell_type": "code",
   "execution_count": 2,
   "id": "57617010-247e-4fcc-b138-44b770b25e82",
   "metadata": {},
   "outputs": [
    {
     "name": "stdout",
     "output_type": "stream",
     "text": [
      "+ . set_shared_shell_vars\n",
      "+++ pwd\n",
      "++ REPO_ROOT=/glade/work/klindsay/GCB_2022_CESM2.2\n",
      "++ CIMEROOT=/glade/work/klindsay/cesm2_tags/cesm2.2.0/cime\n",
      "++ CASEROOT_PARENT=/glade/work/klindsay/GCB_2022_CESM2.2_cases\n",
      "++ COMPSET=GOMIPECOIAF_JRA-1p4-2018\n",
      "++ GRID=TL319_g17\n",
      "++ case $co2_forcing in\n",
      "++ BGC=C\n",
      "++ case $clim_forcing in\n",
      "++ RAD=D\n",
      "++ CO2_OPT=BCRD\n",
      "++ CASE=g.e22.GOMIPECOIAF_JRA-1p4-2018.TL319_g17.GCB_2022.BCRD.002\n",
      "++ CASE_CO2_const=g.e22.GOMIPECOIAF_JRA-1p4-2018.TL319_g17.GCB_2022.BCRD.002\n",
      "++ CASE_001=g.e22.GOMIPECOIAF_JRA-1p4-2018.TL319_g17.GCB_2022.BCRD.001\n",
      "++ JRA55_DIR=/glade/scratch/klindsay/g.e22.GOMIPECOIAF_JRA-1p4-2018.TL319_g17.GCB_2022.BCRD.002/jra55_links\n",
      "+ set +x\n"
     ]
    }
   ],
   "source": [
    "set -x\n",
    ". set_shared_shell_vars\n",
    "set +x"
   ]
  },
  {
   "cell_type": "markdown",
   "id": "afbd138d-20f8-48f2-8efa-85020b70b811",
   "metadata": {},
   "source": [
    "# create case"
   ]
  },
  {
   "cell_type": "code",
   "execution_count": 3,
   "id": "b9a143bd-f8cc-4c0b-b528-37d080f9207c",
   "metadata": {},
   "outputs": [
    {
     "name": "stdout",
     "output_type": "stream",
     "text": [
      "Compset longname is OMIP_DATM%JRA-1p4-2018_SLND_CICE_POP2%ECO_DROF%JRA-1p4-2018_SGLC_WW3\n",
      "Compset specification file is /glade/work/klindsay/cesm2_tags/cesm2.2.0/components/pop//cime_config/config_compsets.xml\n",
      "Automatically adding SIAC to compset\n",
      "Automatically adding SESP to compset\n",
      "Warning: missing non-idmap ROF2OCN_FMAPNAME for rof_grid, JRA025v2 and ocn_grid gx1v7 \n",
      "Compset forcing is \n",
      "ATM component is  Data driven ATM interannual JRA55 forcing, v1.4, through 2018\n",
      "LND component is Stub land component\n",
      "ICE component is Sea ICE (cice) model version 5\n",
      "OCN component is POP2 Ecosystem\n",
      "ROF component is Data runoff modelJRA55 interannual forcing, v1.4, through 2018\n",
      "GLC component is Stub glacier (land ice) component\n",
      "WAV component is Wave Watch\n",
      "IAC component is Stub iac component\n",
      "ESP component is Stub external system processing (ESP) component\n",
      "Pes     specification file is /glade/work/klindsay/cesm2_tags/cesm2.2.0/components/pop//cime_config/config_pes.xml\n",
      "Machine is cheyenne\n",
      "Pes setting: grid match    is oi%gx1v[67]|oi%tx1v1 \n",
      "Pes setting: machine match is cheyenne \n",
      "Pes setting: compset_match is _DATM.*_CICE.*_POP2%ECO \n",
      "Pes setting: grid          is a%TL319_l%null_oi%gx1v7_r%JRA025v2_g%null_w%ww3a_z%null_m%gx1v7 \n",
      "Pes setting: compset       is OMIP_DATM%JRA-1p4-2018_SLND_CICE_POP2%ECO_DROF%JRA-1p4-2018_SGLC_WW3_SIAC_SESP \n",
      "Pes setting: tasks       is {'NTASKS_OCN': 216, 'NTASKS_ICE': 36, 'NTASKS_CPL': 36, 'NTASKS_WAV': 36, 'NTASKS_ATM': 36, 'NTASKS_GLC': 36, 'NTASKS_LND': 36, 'NTASKS_ROF': 36} \n",
      "Pes setting: threads     is {'NTHRDS_OCN': 2, 'NTHRDS_ICE': 2, 'NTHRDS_CPL': 2, 'NTHRDS_WAV': 2, 'NTHRDS_ATM': 2, 'NTHRDS_GLC': 2, 'NTHRDS_LND': 2, 'NTHRDS_ROF': 2} \n",
      "Pes setting: rootpe      is {'ROOTPE_OCN': 36, 'ROOTPE_ICE': 0, 'ROOTPE_CPL': 0, 'ROOTPE_WAV': 0, 'ROOTPE_ATM': 0, 'ROOTPE_GLC': 0, 'ROOTPE_LND': 0, 'ROOTPE_ROF': 0} \n",
      "Pes setting: pstrid      is {} \n",
      "Pes other settings: {}\n",
      "Pes comments: G+ECO (e.g., G1850ECO); gx1v6, gx1v7, or tx1v1 resolution on cheyenne\n",
      " Compset is: OMIP_DATM%JRA-1p4-2018_SLND_CICE_POP2%ECO_DROF%JRA-1p4-2018_SGLC_WW3_SIAC_SESP \n",
      " Grid is: a%TL319_l%null_oi%gx1v7_r%JRA025v2_g%null_w%ww3a_z%null_m%gx1v7 \n",
      " Components in compset are: ['datm', 'slnd', 'cice', 'pop', 'drof', 'sglc', 'ww3', 'siac', 'sesp'] \n",
      "\n",
      "*********************************************************************************************************************************\n",
      "This compset and grid combination is not scientifically supported, however it is used in 2 tests.\n",
      "*********************************************************************************************************************************\n",
      "\n",
      "Using project from env PROJECT: P93300670\n",
      "No charge_account info available, using value from PROJECT\n",
      "cesm model version found: cesm2.2.0\n",
      "Batch_system_type is pbs\n",
      "job is case.run USER_REQUESTED_WALLTIME None USER_REQUESTED_QUEUE None WALLTIME_FORMAT %H:%M:%S\n",
      "job is case.st_archive USER_REQUESTED_WALLTIME None USER_REQUESTED_QUEUE None WALLTIME_FORMAT %H:%M:%S\n",
      " Creating Case directory /glade/work/klindsay/GCB_2022_CESM2.2_cases/g.e22.GOMIPECOIAF_JRA-1p4-2018.TL319_g17.GCB_2022.BCRD.002\n"
     ]
    }
   ],
   "source": [
    "cd $CIMEROOT/scripts\n",
    "if [ $clobber -ne 0 ]; then\n",
    "    rm -Rf $CASEROOT_PARENT/$CASE /glade/scratch/$USER/$CASE /glade/scratch/archive/$USER/$CASE\n",
    "fi\n",
    "\n",
    "./create_newcase --compset $COMPSET --res $GRID --case $CASEROOT_PARENT/$CASE\n",
    "cd $CASEROOT_PARENT/$CASE"
   ]
  },
  {
   "cell_type": "markdown",
   "id": "8bd6df34-8163-4e26-af98-c0bc5aea716e",
   "metadata": {},
   "source": [
    "# set xml variables"
   ]
  },
  {
   "cell_type": "code",
   "execution_count": 4,
   "id": "d8a73517-52aa-4135-87df-5c1d48f08648",
   "metadata": {},
   "outputs": [
    {
     "name": "stdout",
     "output_type": "stream",
     "text": [
      "+ . /glade/work/klindsay/GCB_2022_CESM2.2/set_xml_vars\n",
      "++ ./xmlchange CHARGE_ACCOUNT=P93300670,PROJECT=P93300670\n",
      "++ ./xmlchange NTHRDS=1,NTASKS=72,OCN_ROOTPE=72,OCN_NTASKS=751\n",
      "++ ./xmlchange POP_AUTO_DECOMP=FALSE,POP_BLCKX=9,POP_BLCKY=16,POP_DECOMPTYPE=spacecurve,POP_MXBLCKS=1,POP_NX_BLOCKS=36,POP_NY_BLOCKS=24\n",
      "++ ./xmlchange DATM_PRESAERO=clim_1850\n",
      "++ ./xmlchange CHARGE_ACCOUNT=P93300670,PROJECT=P93300670\n",
      "++ '[' const == const ']'\n",
      "++ '[' 002 == 001 ']'\n",
      "++ ./xmlchange OCN_CO2_TYPE=constant,CCSM_CO2_PPMV=278.0\n",
      "++ '[' const == varying ']'\n",
      "++ '[' 002 == 002 ']'\n",
      "++ ./xmlchange RUN_TYPE=branch,RUN_REFDATE=2018-01-01\n",
      "++ ./xmlchange RUN_REFCASE=g.e22.GOMIPECOIAF_JRA-1p4-2018.TL319_g17.GCB_2022.BCRD.001\n",
      "++ ./xmlchange STOP_OPTION=nyears,STOP_N=4,RESUBMIT=0\n",
      "+ set +x\n"
     ]
    }
   ],
   "source": [
    "set -x\n",
    ". $REPO_ROOT/set_xml_vars\n",
    "set +x"
   ]
  },
  {
   "cell_type": "code",
   "execution_count": 5,
   "id": "7e1a8ab1-9b11-4f03-89d2-75bb5df3aab1",
   "metadata": {},
   "outputs": [
    {
     "name": "stdout",
     "output_type": "stream",
     "text": [
      "Setting Environment OMP_STACKSIZE=1024M\n",
      "Setting Environment TMPDIR=/glade/scratch/klindsay\n",
      "Setting Environment MPI_TYPE_DEPTH=16\n",
      "Setting Environment MPI_IB_CONGESTED=1\n",
      "Setting resource.RLIMIT_STACK to -1 from (307200000, -1)\n",
      "/glade/work/klindsay/GCB_2022_CESM2.2_cases/g.e22.GOMIPECOIAF_JRA-1p4-2018.TL319_g17.GCB_2022.BCRD.002/env_mach_specific.xml already exists, delete to replace\n",
      "/glade/work/klindsay/GCB_2022_CESM2.2_cases/g.e22.GOMIPECOIAF_JRA-1p4-2018.TL319_g17.GCB_2022.BCRD.002/env_mach_specific.xml already exists, delete to replace\n",
      "job is case.run USER_REQUESTED_WALLTIME None USER_REQUESTED_QUEUE None WALLTIME_FORMAT %H:%M:%S\n",
      "Creating batch scripts\n",
      "Writing case.run script from input template /glade/work/klindsay/cesm2_tags/cesm2.2.0/cime/config/cesm/machines/template.case.run\n",
      "Creating file .case.run\n",
      "Writing case.st_archive script from input template /glade/work/klindsay/cesm2_tags/cesm2.2.0/cime/config/cesm/machines/template.st_archive\n",
      "Creating file case.st_archive\n",
      "Creating user_nl_xxx files for components and cpl\n",
      "If an old case build already exists, might want to run 'case.build --clean' before building\n",
      "You can now run './preview_run' to get more info on how your case will be run\n"
     ]
    }
   ],
   "source": [
    "./case.setup"
   ]
  },
  {
   "cell_type": "markdown",
   "id": "eb6d989a-aa9f-4a1d-abed-c3096c8c626d",
   "metadata": {},
   "source": [
    "# generate user_nl mods"
   ]
  },
  {
   "cell_type": "code",
   "execution_count": 6,
   "id": "61c9c3bd-f6ff-4f38-8bd3-7fda8b2ccd0c",
   "metadata": {},
   "outputs": [
    {
     "name": "stdout",
     "output_type": "stream",
     "text": [
      "! mods appended to user_nl_cice\n",
      "r_snw = 1.6\n",
      "dt_mlt = 0.5\n",
      "rsnw_mlt = 1000.\n",
      "\n",
      "! mods appended to user_nl_pop\n",
      "kappa_isop_deep = 0.1\n",
      "\n",
      "shf_strong_restore = 79.1\n",
      "shf_strong_restore_ms = 79.1\n",
      "\n",
      "sfwf_strong_restore = 0.56\n",
      "sfwf_strong_restore_ms = 0.56\n",
      "\n",
      "ndep_shr_stream_file = '/glade/p/cesmdata/cseg/inputdata/ocn/pop/gx1v6/forcing/ndep_ocn_SMYLE_w_nhx_emis_gx1v6_1652-2025_c201113.nc'\n",
      "ndep_shr_stream_year_align = 1652\n",
      "ndep_shr_stream_year_first = 1652\n",
      "ndep_shr_stream_year_last = 2022\n",
      "riv_flux_shr_stream_year_align = 1900\n",
      "riv_flux_shr_stream_year_first = 1900\n",
      "riv_flux_shr_stream_year_last = 2000\n",
      "\n",
      "! mods appended to user_nl_marbl\n",
      "caco3_bury_thres_omega_calc = 0.89\n",
      "parm_init_POC_bury_coeff = 2.54\n",
      "parm_init_POP_bury_coeff = 0.36\n",
      "parm_init_bSi_bury_coeff = 1.53\n",
      "\n",
      "! mods appended to user_nl_datm\n",
      "streams = \"datm.streams.txt.CORE_IAF_JRA_1p4_2018.GCGCS.PREC 2018 2018 2021\",\n",
      "\"datm.streams.txt.CORE_IAF_JRA_1p4_2018.GISS.LWDN 2018 2018 2021\",\n",
      "\"datm.streams.txt.CORE_IAF_JRA_1p4_2018.GISS.SWDN 2018 2018 2021\",\n",
      "\"datm.streams.txt.CORE_IAF_JRA_1p4_2018.NCEP.Q_10 2018 2018 2021\",\n",
      "\"datm.streams.txt.CORE_IAF_JRA_1p4_2018.NCEP.SLP_ 2018 2018 2021\",\n",
      "\"datm.streams.txt.CORE_IAF_JRA_1p4_2018.NCEP.T_10 2018 2018 2021\",\n",
      "\"datm.streams.txt.CORE_IAF_JRA_1p4_2018.NCEP.U_10 2018 2018 2021\",\n",
      "\"datm.streams.txt.CORE_IAF_JRA_1p4_2018.NCEP.V_10 2018 2018 2021\",\n",
      "\"datm.streams.txt.presaero.clim_1850 1652 1652 2022\",\n",
      "\"datm.streams.txt.co2tseries.omip 1750 1750 2022\"\n",
      "taxmode = \"extend\", \"extend\", \"extend\", \"extend\", \"extend\", \"extend\", \"extend\",\n",
      "\"extend\", \"extend\", \"extend\"\n",
      "\n",
      "! mods appended to user_nl_drof\n",
      "streams = \"drof.streams.txt.rof.iaf_jra_1p4_2018 2018 2018 2021\"\n",
      "taxmode = \"extend\"\n"
     ]
    }
   ],
   "source": [
    ". $REPO_ROOT/gen_user_nl_mods"
   ]
  },
  {
   "cell_type": "code",
   "execution_count": 7,
   "id": "d7038457-9b5d-4fda-ab94-61a1ba6ae23c",
   "metadata": {},
   "outputs": [],
   "source": [
    ". $REPO_ROOT/gen_jra55_extension_links\n",
    ". $REPO_ROOT/gen_user_stream_files"
   ]
  },
  {
   "cell_type": "code",
   "execution_count": 8,
   "id": "43902b59-c5c4-43dc-8b2a-961b709ffa77",
   "metadata": {},
   "outputs": [
    {
     "name": "stdout",
     "output_type": "stream",
     "text": [
      "Setting Environment OMP_STACKSIZE=1024M\n",
      "Setting Environment TMPDIR=/glade/scratch/klindsay\n",
      "Setting Environment MPI_TYPE_DEPTH=16\n",
      "Setting Environment MPI_IB_CONGESTED=1\n",
      "Setting resource.RLIMIT_STACK to -1 from (307200000, -1)\n",
      "GET_REFCASE is false, the user is expected to stage the refcase to the run directory.\n",
      "Creating component namelists\n",
      "  2022-07-06 15:56:14 atm \n",
      "   Calling /glade/work/klindsay/cesm2_tags/cesm2.2.0/cime/src/components/data_comps_mct/datm/cime_config/buildnml\n",
      "  2022-07-06 15:56:14 lnd \n",
      "   Calling /glade/work/klindsay/cesm2_tags/cesm2.2.0/cime/src/components/stub_comps_mct/slnd/cime_config/buildnml\n",
      "  2022-07-06 15:56:14 ice \n",
      "   Calling /glade/work/klindsay/cesm2_tags/cesm2.2.0/components/cice//cime_config/buildnml\n",
      "     ...buildnml calling cice buildcpp to set build time options\n",
      "  2022-07-06 15:56:14 ocn \n",
      "   Calling /glade/work/klindsay/cesm2_tags/cesm2.2.0/components/pop//cime_config/buildnml\n",
      "     ... buildnml: calling pop buildcpp to set build time options\n",
      "  2022-07-06 15:56:16 rof \n",
      "   Calling /glade/work/klindsay/cesm2_tags/cesm2.2.0/cime/src/components/data_comps_mct/drof/cime_config/buildnml\n",
      "  2022-07-06 15:56:16 glc \n",
      "   Calling /glade/work/klindsay/cesm2_tags/cesm2.2.0/cime/src/components/stub_comps_mct/sglc/cime_config/buildnml\n",
      "  2022-07-06 15:56:16 wav \n",
      "   Calling /glade/work/klindsay/cesm2_tags/cesm2.2.0/components/ww3//cime_config/buildnml\n",
      "  2022-07-06 15:56:16 iac \n",
      "   Running /glade/work/klindsay/cesm2_tags/cesm2.2.0/cime/src/components/stub_comps_mct/siac/cime_config/buildnml \n",
      "  2022-07-06 15:56:16 esp \n",
      "   Calling /glade/work/klindsay/cesm2_tags/cesm2.2.0/cime/src/components/stub_comps_mct/sesp/cime_config/buildnml\n",
      "  2022-07-06 15:56:16 cpl \n",
      "   Calling /glade/work/klindsay/cesm2_tags/cesm2.2.0/cime/src/drivers/mct/cime_config/buildnml\n"
     ]
    }
   ],
   "source": [
    "# create fake POP rpointer file, so that preview_namelists works\n",
    "fname=/glade/scratch/$USER/$CASE/run/rpointer.ocn.restart\n",
    "if ! [ -f $fname ]; then echo 'RESTART_FMT=nc' > $fname; fi\n",
    "\n",
    "./preview_namelists"
   ]
  },
  {
   "cell_type": "markdown",
   "id": "9ca3120d-7b21-4551-a3ec-23c4feb9fb14",
   "metadata": {},
   "source": [
    "# Copy SourceMods and build"
   ]
  },
  {
   "cell_type": "code",
   "execution_count": 9,
   "id": "627cf452-055e-4e75-b349-d75210e1105e",
   "metadata": {},
   "outputs": [],
   "source": [
    "cp $REPO_ROOT/SourceMods/src.pop/* SourceMods/src.pop"
   ]
  },
  {
   "cell_type": "code",
   "execution_count": 10,
   "id": "60857265-e921-4490-91d5-c5825e79dc92",
   "metadata": {},
   "outputs": [
    {
     "name": "stdout",
     "output_type": "stream",
     "text": [
      "Submitting command to PBS using account P93300670:\n",
      "    ./case.build\n",
      "\n",
      "Waiting for job 4892751.chadmin1.ib0.cheyenne.ucar.edu to start ... \n",
      "\n",
      "\n",
      "Wed Jul  6 15:56:25 MDT 2022\n",
      "Building case in directory /glade/work/klindsay/GCB_2022_CESM2.2_cases/g.e22.GOMIPECOIAF_JRA-1p4-2018.TL319_g17.GCB_2022.BCRD.002\n",
      "sharedlib_only is False\n",
      "model_only is False\n",
      "Setting Environment OMP_STACKSIZE=1024M\n",
      "Setting Environment TMPDIR=/glade/scratch/klindsay\n",
      "Setting Environment MPI_TYPE_DEPTH=16\n",
      "Setting Environment MPI_IB_CONGESTED=1\n",
      "Setting resource.RLIMIT_STACK to -1 from (-1, -1)\n",
      "Generating component namelists as part of build\n",
      "GET_REFCASE is false, the user is expected to stage the refcase to the run directory.\n",
      "Creating component namelists\n",
      "  2022-07-06 15:56:28 atm \n",
      "   Calling /glade/work/klindsay/cesm2_tags/cesm2.2.0/cime/src/components/data_comps_mct/datm/cime_config/buildnml\n",
      "  2022-07-06 15:56:28 lnd \n",
      "   Calling /glade/work/klindsay/cesm2_tags/cesm2.2.0/cime/src/components/stub_comps_mct/slnd/cime_config/buildnml\n",
      "  2022-07-06 15:56:28 ice \n",
      "   Calling /glade/work/klindsay/cesm2_tags/cesm2.2.0/components/cice//cime_config/buildnml\n",
      "     ...buildnml calling cice buildcpp to set build time options\n",
      "  2022-07-06 15:56:29 ocn \n",
      "   Calling /glade/work/klindsay/cesm2_tags/cesm2.2.0/components/pop//cime_config/buildnml\n",
      "     ... buildnml: calling pop buildcpp to set build time options\n",
      "  2022-07-06 15:56:31 rof \n",
      "   Calling /glade/work/klindsay/cesm2_tags/cesm2.2.0/cime/src/components/data_comps_mct/drof/cime_config/buildnml\n",
      "  2022-07-06 15:56:31 glc \n",
      "   Calling /glade/work/klindsay/cesm2_tags/cesm2.2.0/cime/src/components/stub_comps_mct/sglc/cime_config/buildnml\n",
      "  2022-07-06 15:56:31 wav \n",
      "   Calling /glade/work/klindsay/cesm2_tags/cesm2.2.0/components/ww3//cime_config/buildnml\n",
      "  2022-07-06 15:56:31 iac \n",
      "   Running /glade/work/klindsay/cesm2_tags/cesm2.2.0/cime/src/components/stub_comps_mct/siac/cime_config/buildnml \n",
      "  2022-07-06 15:56:31 esp \n",
      "   Calling /glade/work/klindsay/cesm2_tags/cesm2.2.0/cime/src/components/stub_comps_mct/sesp/cime_config/buildnml\n",
      "  2022-07-06 15:56:31 cpl \n",
      "   Calling /glade/work/klindsay/cesm2_tags/cesm2.2.0/cime/src/drivers/mct/cime_config/buildnml\n",
      "Building gptl with output to file /glade/scratch/klindsay/g.e22.GOMIPECOIAF_JRA-1p4-2018.TL319_g17.GCB_2022.BCRD.002/bld/gptl.bldlog.220706-155627\n",
      "   Calling /glade/work/klindsay/cesm2_tags/cesm2.2.0/cime/src/build_scripts/buildlib.gptl\n",
      "Building mct with output to file /glade/scratch/klindsay/g.e22.GOMIPECOIAF_JRA-1p4-2018.TL319_g17.GCB_2022.BCRD.002/bld/mct.bldlog.220706-155627\n",
      "   Calling /glade/work/klindsay/cesm2_tags/cesm2.2.0/cime/src/build_scripts/buildlib.mct\n",
      "Building pio with output to file /glade/scratch/klindsay/g.e22.GOMIPECOIAF_JRA-1p4-2018.TL319_g17.GCB_2022.BCRD.002/bld/pio.bldlog.220706-155627\n",
      "   Calling /glade/work/klindsay/cesm2_tags/cesm2.2.0/cime/src/build_scripts/buildlib.pio\n",
      "Component pio build complete with 2 warnings\n",
      "Building csm_share with output to file /glade/scratch/klindsay/g.e22.GOMIPECOIAF_JRA-1p4-2018.TL319_g17.GCB_2022.BCRD.002/bld/csm_share.bldlog.220706-155627\n",
      "   Calling /glade/work/klindsay/cesm2_tags/cesm2.2.0/cime/src/build_scripts/buildlib.csm_share\n",
      "Component csm_share build complete with 20 warnings\n",
      "         - Building atm Library \n",
      "Building atm with output to /glade/scratch/klindsay/g.e22.GOMIPECOIAF_JRA-1p4-2018.TL319_g17.GCB_2022.BCRD.002/bld/atm.bldlog.220706-155627\n",
      "         - Building lnd Library \n",
      "Building lnd with output to /glade/scratch/klindsay/g.e22.GOMIPECOIAF_JRA-1p4-2018.TL319_g17.GCB_2022.BCRD.002/bld/lnd.bldlog.220706-155627\n",
      "         - Building ice Library \n",
      "Building ice with output to /glade/scratch/klindsay/g.e22.GOMIPECOIAF_JRA-1p4-2018.TL319_g17.GCB_2022.BCRD.002/bld/ice.bldlog.220706-155627\n",
      "         - Building ocn Library \n",
      "Building ocn with output to /glade/scratch/klindsay/g.e22.GOMIPECOIAF_JRA-1p4-2018.TL319_g17.GCB_2022.BCRD.002/bld/ocn.bldlog.220706-155627\n",
      "         - Building rof Library \n",
      "Building rof with output to /glade/scratch/klindsay/g.e22.GOMIPECOIAF_JRA-1p4-2018.TL319_g17.GCB_2022.BCRD.002/bld/rof.bldlog.220706-155627\n",
      "         - Building glc Library \n",
      "Building glc with output to /glade/scratch/klindsay/g.e22.GOMIPECOIAF_JRA-1p4-2018.TL319_g17.GCB_2022.BCRD.002/bld/glc.bldlog.220706-155627\n",
      "         - Building wav Library \n",
      "Building wav with output to /glade/scratch/klindsay/g.e22.GOMIPECOIAF_JRA-1p4-2018.TL319_g17.GCB_2022.BCRD.002/bld/wav.bldlog.220706-155627\n",
      "         - Building iac Library \n",
      "Building iac with output to /glade/scratch/klindsay/g.e22.GOMIPECOIAF_JRA-1p4-2018.TL319_g17.GCB_2022.BCRD.002/bld/iac.bldlog.220706-155627\n",
      "         - Building esp Library \n",
      "Building esp with output to /glade/scratch/klindsay/g.e22.GOMIPECOIAF_JRA-1p4-2018.TL319_g17.GCB_2022.BCRD.002/bld/esp.bldlog.220706-155627\n",
      "sesp built in 1.806812 seconds\n",
      "slnd built in 1.953062 seconds\n",
      "siac built in 1.976363 seconds\n",
      "sglc built in 2.238529 seconds\n",
      "drof built in 4.061992 seconds\n",
      "datm built in 5.327400 seconds\n",
      "ww built in 32.059086 seconds\n",
      "Component ice build complete with 1 warnings\n",
      "cice built in 76.833458 seconds\n",
      "Component ocn build complete with 13 warnings\n",
      "pop built in 426.267280 seconds\n",
      "Building cesm from /glade/work/klindsay/cesm2_tags/cesm2.2.0/cime/src/drivers/mct/cime_config/buildexe with output to /glade/scratch/klindsay/g.e22.GOMIPECOIAF_JRA-1p4-2018.TL319_g17.GCB_2022.BCRD.002/bld/cesm.bldlog.220706-155627 \n",
      "Time spent not building: 5.048727 sec\n",
      "Time spent building: 613.527674 sec\n",
      "MODEL BUILD HAS FINISHED SUCCESSFULLY\n"
     ]
    }
   ],
   "source": [
    "qcmd -- ./case.build"
   ]
  },
  {
   "cell_type": "code",
   "execution_count": 11,
   "id": "806d8036-5a51-4f96-85ba-6fdd6036b327",
   "metadata": {},
   "outputs": [],
   "source": [
    "# "
   ]
  }
 ],
 "metadata": {
  "kernelspec": {
   "display_name": "Bash",
   "language": "bash",
   "name": "bash"
  },
  "language_info": {
   "codemirror_mode": "shell",
   "file_extension": ".sh",
   "mimetype": "text/x-sh",
   "name": "bash"
  }
 },
 "nbformat": 4,
 "nbformat_minor": 5
}

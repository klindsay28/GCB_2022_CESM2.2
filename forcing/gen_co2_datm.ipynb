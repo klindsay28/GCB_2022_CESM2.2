{
 "cells": [
  {
   "cell_type": "code",
   "execution_count": 1,
   "id": "b186c8f7-baff-4ae4-bda3-7eccaa03f8a5",
   "metadata": {},
   "outputs": [],
   "source": [
    "from datetime import datetime\n",
    "import math\n",
    "\n",
    "import matplotlib.pyplot as plt\n",
    "import numpy as np\n",
    "import pandas as pd\n",
    "import xarray as xr"
   ]
  },
  {
   "cell_type": "markdown",
   "id": "1ced705a-f989-414b-b385-d732e00e21a2",
   "metadata": {},
   "source": [
    "# Read input data"
   ]
  },
  {
   "cell_type": "code",
   "execution_count": 2,
   "id": "7cd7a783-8b20-42bb-a65a-f47dfa194a78",
   "metadata": {},
   "outputs": [
    {
     "name": "stdout",
     "output_type": "stream",
     "text": [
      "          time     CO2\n",
      "0     1700.042  276.58\n",
      "1     1700.125  276.58\n",
      "2     1700.209  276.59\n",
      "3     1700.292  276.59\n",
      "4     1700.375  276.59\n",
      "...        ...     ...\n",
      "3863  2021.958  414.98\n",
      "3864  2022.042  416.10\n",
      "3865  2022.125  416.73\n",
      "3866  2022.208  415.77\n",
      "3867  2022.292  416.75\n",
      "\n",
      "[3868 rows x 2 columns]\n"
     ]
    },
    {
     "data": {
      "image/png": "[encoded data removed]",
      "text/plain": [
       "<Figure size 432x288 with 1 Axes>"
      ]
     },
     "metadata": {
      "needs_background": "light"
     },
     "output_type": "display_data"
    }
   ],
   "source": [
    "path_in = \"global_co2_merged.txt\"\n",
    "\n",
    "data_in = pd.read_table(path_in, skiprows=16, skipinitialspace=True, sep=\" \", names=[\"time\", \"CO2\"])\n",
    "\n",
    "print(data_in)\n",
    "\n",
    "plt.plot(data_in[\"time\"], data_in[\"CO2\"]);"
   ]
  },
  {
   "cell_type": "markdown",
   "id": "ea0de7a8-1944-43b5-ac47-603cd349ef4e",
   "metadata": {},
   "source": [
    "# Create xarray Dataset from input data"
   ]
  },
  {
   "cell_type": "code",
   "execution_count": 3,
   "id": "5aa3ad3c-5dad-422c-adeb-4500129112a5",
   "metadata": {},
   "outputs": [
    {
     "name": "stdout",
     "output_type": "stream",
     "text": [
      "<xarray.DataArray 'time' (time: 3868)>\n",
      "array([1.53300000e+01, 4.56250000e+01, 7.62850000e+01, ...,\n",
      "       1.17575625e+05, 1.17605920e+05, 1.17636580e+05])\n",
      "Coordinates:\n",
      "  * time     (time) float64 15.33 45.62 76.29 ... 1.176e+05 1.176e+05 1.176e+05\n",
      "Attributes:\n",
      "    long_name:  time\n",
      "    units:      days since 1700-01-01\n",
      "    calendar:   noleap\n"
     ]
    }
   ],
   "source": [
    "t_vals = (data_in[\"time\"] - 1700.0) * 365.0\n",
    "time = xr.DataArray(\n",
    "    data=t_vals,\n",
    "    coords={\"time\": t_vals},\n",
    "    attrs={\"long_name\": \"time\", \"units\": \"days since 1700-01-01\", \"calendar\": \"noleap\"},\n",
    ")\n",
    "print(time)\n",
    "\n",
    "lat_val = [0.0]\n",
    "lat = xr.DataArray(\n",
    "    data=lat_val, coords={\"lat\": lat_val}, attrs={\"long_name\": \"latitude\", \"units\": \"degrees_north\"}\n",
    ")\n",
    "\n",
    "lon_val = [180.0]\n",
    "lon = xr.DataArray(\n",
    "    data=lon_val, coords={\"lon\": lon_val}, attrs={\"long_name\": \"longitude\", \"units\": \"degrees_east\"}\n",
    ")"
   ]
  },
  {
   "cell_type": "code",
   "execution_count": 4,
   "id": "9c4a6521-ab3d-4b82-8043-5c7e07fe6815",
   "metadata": {},
   "outputs": [],
   "source": [
    "area = xr.DataArray(\n",
    "    data=[[4.0*math.pi]],\n",
    "    coords={\"lat\": lat, \"lon\": lon},\n",
    "    attrs={\"long_name\": \"grid cell area\", \"units\": \"radians^2\"},\n",
    ")\n",
    "\n",
    "mask = xr.DataArray(\n",
    "    data=[[1.0]],\n",
    "    coords={\"lat\": lat, \"lon\": lon},\n",
    "    attrs={\"long_name\": \"Mask of active cells: 1=active\", \"units\": \"unitless\"},\n",
    ")\n",
    "\n",
    "CO2 = xr.DataArray(\n",
    "    data=np.expand_dims(data_in[\"CO2\"].values, (-2, -1)),\n",
    "    coords={\"time\": time, \"lat\": lat, \"lon\": lon},\n",
    "    attrs={\"long_name\": \"atmospheric CO2 concentration\", \"units\": \"ppmv\"},\n",
    ")"
   ]
  },
  {
   "cell_type": "code",
   "execution_count": 5,
   "id": "458e0da0-7b51-4732-a1d6-8ff0f1a5c3d9",
   "metadata": {
    "tags": []
   },
   "outputs": [
    {
     "name": "stdout",
     "output_type": "stream",
     "text": [
      "<xarray.Dataset>\n",
      "Dimensions:  (time: 3868, lat: 1, lon: 1)\n",
      "Coordinates:\n",
      "  * time     (time) float64 15.33 45.62 76.29 ... 1.176e+05 1.176e+05 1.176e+05\n",
      "  * lat      (lat) float64 0.0\n",
      "  * lon      (lon) float64 180.0\n",
      "Data variables:\n",
      "    area     (lat, lon) float64 12.57\n",
      "    mask     (lat, lon) float64 1.0\n",
      "    CO2      (time, lat, lon) float64 276.6 276.6 276.6 ... 416.7 415.8 416.8\n",
      "Attributes:\n",
      "    input_file_list:  global_co2_merged.txt\n",
      "    date_created:     2022-06-15 11:54:57.606138\n"
     ]
    }
   ],
   "source": [
    "ds = xr.Dataset(\n",
    "    data_vars={\"time\": time, \"area\": area, \"mask\": mask, \"CO2\": CO2}\n",
    ")\n",
    "ds.attrs[\"input_file_list\"] = path_in\n",
    "ds.attrs[\"date_created\"] = f\"{datetime.now()}\"\n",
    "ds.encoding[\"unlimited_dims\"] = \"time\"\n",
    "print(ds)"
   ]
  },
  {
   "cell_type": "markdown",
   "id": "500e695b-fc77-4673-bd5a-1e0784647e70",
   "metadata": {
    "tags": []
   },
   "source": [
    "# Write Dataset to netCDF file"
   ]
  },
  {
   "cell_type": "code",
   "execution_count": 6,
   "id": "7b6410bd-0128-4d9f-8457-a8aa0709ddb1",
   "metadata": {},
   "outputs": [],
   "source": [
    "for d in [ds.data_vars, ds.coords]:\n",
    "    for varname in d:\n",
    "        if \"_FillValue\" not in d[varname].encoding:\n",
    "            d[varname].encoding[\"_FillValue\"] = None"
   ]
  },
  {
   "cell_type": "code",
   "execution_count": 7,
   "id": "0e8fbdf7-9b7e-4c16-be10-9b3a01738503",
   "metadata": {},
   "outputs": [
    {
     "name": "stdout",
     "output_type": "stream",
     "text": [
      "creating fco2_datm_global_GCB_2022_1700-2022_c20220615.nc\n"
     ]
    }
   ],
   "source": [
    "datestamp = datetime.now().strftime(\"%Y%m%d\")\n",
    "path_out = f\"fco2_datm_global_GCB_2022_1700-2022_c{datestamp}.nc\"\n",
    "print(f\"creating {path_out}\")\n",
    "ds.to_netcdf(path_out)"
   ]
  },
  {
   "cell_type": "markdown",
   "id": "3ba7834d-7857-4595-b4b6-40159983ac28",
   "metadata": {
    "tags": []
   },
   "source": [
    "# Confirm that netCDF file can be read back in"
   ]
  },
  {
   "cell_type": "code",
   "execution_count": 8,
   "id": "658cfaf8-3645-4736-9b74-5067b44eedad",
   "metadata": {},
   "outputs": [
    {
     "name": "stdout",
     "output_type": "stream",
     "text": [
      "<xarray.Dataset>\n",
      "Dimensions:  (time: 3868, lat: 1, lon: 1)\n",
      "Coordinates:\n",
      "  * time     (time) object 1700-01-16 07:55:11.999997 ... 2022-04-17 13:55:11...\n",
      "  * lat      (lat) float64 0.0\n",
      "  * lon      (lon) float64 180.0\n",
      "Data variables:\n",
      "    area     (lat, lon) float64 ...\n",
      "    mask     (lat, lon) float64 ...\n",
      "    CO2      (time, lat, lon) float64 ...\n",
      "Attributes:\n",
      "    input_file_list:  global_co2_merged.txt\n",
      "    date_created:     2022-06-15 11:54:57.606138\n"
     ]
    }
   ],
   "source": [
    "ds2 = xr.open_dataset(path_out)\n",
    "print(ds2)"
   ]
  },
  {
   "cell_type": "code",
   "execution_count": null,
   "id": "a7297a51-7606-4209-9f23-bedc09917e72",
   "metadata": {},
   "outputs": [],
   "source": []
  }
 ],
 "metadata": {
  "kernelspec": {
   "display_name": "NPL (conda)",
   "language": "python",
   "name": "npl-conda"
  },
  "language_info": {
   "codemirror_mode": {
    "name": "ipython",
    "version": 3
   },
   "file_extension": ".py",
   "mimetype": "text/x-python",
   "name": "python",
   "nbconvert_exporter": "python",
   "pygments_lexer": "ipython3",
   "version": "3.7.12"
  }
 },
 "nbformat": 4,
 "nbformat_minor": 5
}
